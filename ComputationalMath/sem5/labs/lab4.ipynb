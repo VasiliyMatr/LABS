{
 "cells": [
  {
   "cell_type": "markdown",
   "metadata": {},
   "source": [
    "# Матренин Василий Николаевич. Б01-008\n",
    "# Лабораторная работа \\#4\n"
   ]
  },
  {
   "cell_type": "code",
   "execution_count": 18,
   "metadata": {},
   "outputs": [],
   "source": [
    "import numpy as np\n",
    "\n",
    "def divided_difference(values) :\n",
    "    N = len(values)\n",
    "    if N == 1 :\n",
    "        return values[0][1]\n",
    "    \n",
    "    x0 = values[0][0]\n",
    "    xn = values[N-1][0]\n",
    "    \n",
    "    without_0 = np.delete(values, 0, 0) \n",
    "    without_n = np.delete(values, N-1, 0)\n",
    "\n",
    "    return (divided_difference(without_0) - divided_difference(without_n)) / (xn - x0)\n",
    "\n",
    "def Newton_interpolation_coefficients(values) :\n",
    "    N = len(values)\n",
    "    coeffs = np.zeros(N)\n",
    "    \n",
    "    for i in range(0, N) :\n",
    "        coeffs[i] = divided_difference(values[:i+1])\n",
    "        \n",
    "    return coeffs\n",
    "\n",
    "def Newton_interpolation(coefficients, values, x) :\n",
    "    N = len(coefficients)\n",
    "    value = 0\n",
    "    factor = 1\n",
    "    \n",
    "    for i in range(0, N) :\n",
    "        value += coefficients[i] * factor\n",
    "        factor *= x - values[i][0]\n",
    "        \n",
    "    return value"
   ]
  },
  {
   "cell_type": "code",
   "execution_count": 24,
   "metadata": {},
   "outputs": [
    {
     "name": "stdout",
     "output_type": "stream",
     "text": [
      "Newton interpolation result: 827906509.0000029\n",
      "Newton interpolation error: 519160971.00000286\n"
     ]
    }
   ],
   "source": [
    "import numpy as np\n",
    "\n",
    "np.set_printoptions(precision=4)\n",
    "\n",
    "values = [[1910, 92_228_496], [1920,  106_021_537],\n",
    "          [1930, 123_202_624], [1940, 132_164_569],\n",
    "          [1950, 151_325_798], [1960, 179_323_175],\n",
    "          [1970, 203_211_926], [1980, 226_545_805],\n",
    "          [1990, 248_709_873], [2000, 281_421_906]]\n",
    "\n",
    "population_2010 = 308_745_538\n",
    "\n",
    "coeffs = Newton_interpolation_coefficients(values)\n",
    "\n",
    "Newton_interpolation_population_2010 = Newton_interpolation(coeffs, values, 2010)\n",
    "\n",
    "print(\"Newton interpolation result:\", Newton_interpolation_population_2010)\n",
    "print(\"Newton interpolation error:\", abs(Newton_interpolation_population_2010 - population_2010))"
   ]
  },
  {
   "cell_type": "code",
   "execution_count": null,
   "metadata": {},
   "outputs": [],
   "source": []
  }
 ],
 "metadata": {
  "kernelspec": {
   "display_name": "Python 3 (ipykernel)",
   "language": "python",
   "name": "python3"
  },
  "language_info": {
   "codemirror_mode": {
    "name": "ipython",
    "version": 3
   },
   "file_extension": ".py",
   "mimetype": "text/x-python",
   "name": "python",
   "nbconvert_exporter": "python",
   "pygments_lexer": "ipython3",
   "version": "3.10.6"
  }
 },
 "nbformat": 4,
 "nbformat_minor": 4
}
