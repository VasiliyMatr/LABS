{
 "cells": [
  {
   "cell_type": "markdown",
   "metadata": {},
   "source": [
    "# Матренин Василий Николаевич. Б01-008\n",
    "# Лабораторная работа \\#3\n"
   ]
  },
  {
   "cell_type": "code",
   "execution_count": 60,
   "metadata": {},
   "outputs": [],
   "source": [
    "import numpy as np\n",
    "\n",
    "def solve_simple_iteration(func, x0, epsilon) :\n",
    "    x = x0\n",
    "    x_prev = x0 + epsilon * 2\n",
    "    \n",
    "    while abs (x - x_prev) >= epsilon :\n",
    "        x_prev = x\n",
    "        x = func(x)\n",
    "    \n",
    "    return x\n",
    "\n",
    "def norm_1(vec) :\n",
    "    return np.amax(abs(vec))\n",
    "\n",
    "def solve_Newton(func, J, x0, epsilon) :\n",
    "    N = len(func)\n",
    "    x = x0\n",
    "    x_prev = x0 + np.ones(N) * epsilon * 2\n",
    "    \n",
    "    while norm_1 (x - x_prev) >= epsilon :\n",
    "        x_prev = x\n",
    "\n",
    "        J_value = np.zeros([N, N])\n",
    "        for i in range(0, N) :\n",
    "            for j in range(0, N) :\n",
    "                J_value[i][j] = J[i][j](x)\n",
    "                \n",
    "        func_value = np.zeros(N)\n",
    "        for i in range(0, N) :\n",
    "            func_value[i] = func[i](x)\n",
    "                \n",
    "        inv_J_value = np.linalg.inv(J_value)\n",
    "        x = x_prev - inv_J_value.dot(func_value)\n",
    "    \n",
    "    return x\n"
   ]
  },
  {
   "cell_type": "code",
   "execution_count": 71,
   "metadata": {},
   "outputs": [
    {
     "name": "stdout",
     "output_type": "stream",
     "text": [
      "4.687789454406052e-41\n",
      "-9.375578908812104e-40\n",
      "2.7529466338263275\n",
      "1.830517959433564e-10\n"
     ]
    }
   ],
   "source": [
    "# 4.12.4.e)\n",
    "import numpy as np\n",
    "from numpy import pi\n",
    "\n",
    "def func(x) :\n",
    "    return x**2 - 20 * np.sin(x)\n",
    "\n",
    "def func1(x) :\n",
    "    return np.arcsin(x**2/20)\n",
    "\n",
    "def func2(x) :\n",
    "    return pi - func1(x)\n",
    "\n",
    "x0 = 1.0\n",
    "x = solve_simple_iteration(func1, x0, 1e-10)\n",
    "print(x)\n",
    "print(func(x))\n",
    "\n",
    "x0 = 3.0\n",
    "x = solve_simple_iteration(func2, x0, 1e-10)\n",
    "print(x)\n",
    "print(func(x))\n"
   ]
  },
  {
   "cell_type": "code",
   "execution_count": 67,
   "metadata": {},
   "outputs": [
    {
     "name": "stdout",
     "output_type": "stream",
     "text": [
      "3.3559117388279\n",
      "1.2069068175160185\n",
      "0.0\n",
      "0.0\n"
     ]
    }
   ],
   "source": [
    "# 4.12.5.в)\n",
    "import numpy as np\n",
    "from numpy import pi\n",
    "\n",
    "def fn1(x) :\n",
    "    return np.cos(x[0] - 1) + x[1] - 0.5\n",
    "def fn2(x) :\n",
    "    return x[0] - np.cos(x[1]) - 3\n",
    "\n",
    "def J_0_0(x) :\n",
    "    return - np.sin(x[0] - 1)\n",
    "def J_0_1(x) :\n",
    "    return 1\n",
    "\n",
    "def J_1_0(x) :\n",
    "    return 1\n",
    "def J_1_1(x) :\n",
    "    return np.sin(x[1])\n",
    "\n",
    "x = solve_Newton([fn1, fn2], [[J_0_0, J_0_1], [J_1_0, J_1_1]], [1, 1], 1e-6)\n",
    "\n",
    "print(x[0])\n",
    "print(x[1])\n",
    "\n",
    "print(fn1(x))\n",
    "print(fn2(x))\n"
   ]
  },
  {
   "cell_type": "code",
   "execution_count": null,
   "metadata": {},
   "outputs": [],
   "source": []
  }
 ],
 "metadata": {
  "kernelspec": {
   "display_name": "Python 3 (ipykernel)",
   "language": "python",
   "name": "python3"
  },
  "language_info": {
   "codemirror_mode": {
    "name": "ipython",
    "version": 3
   },
   "file_extension": ".py",
   "mimetype": "text/x-python",
   "name": "python",
   "nbconvert_exporter": "python",
   "pygments_lexer": "ipython3",
   "version": "3.10.6"
  }
 },
 "nbformat": 4,
 "nbformat_minor": 4
}
